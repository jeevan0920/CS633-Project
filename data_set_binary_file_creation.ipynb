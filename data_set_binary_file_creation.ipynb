{
 "cells": [
  {
   "cell_type": "code",
   "execution_count": 4,
   "metadata": {},
   "outputs": [],
   "source": [
    "import numpy as np"
   ]
  },
  {
   "cell_type": "code",
   "execution_count": 5,
   "metadata": {},
   "outputs": [],
   "source": [
    "#placing all the datset (set of edges ) into a list\n",
    "lst = [1,4,3,10,4,14,2,12,11,4,2,13,7,1,6,12,11,14,10,12,9,11,3,8,1,5,2,8,5,4,6,13,10,13,7,9,9,5,3,2,8,13,7,11,2,13,7,14]"
   ]
  },
  {
   "cell_type": "code",
   "execution_count": 6,
   "metadata": {},
   "outputs": [],
   "source": [
    "#convert list into numpy array\n",
    "arr = np.asarray(lst)"
   ]
  },
  {
   "cell_type": "code",
   "execution_count": 9,
   "metadata": {},
   "outputs": [],
   "source": [
    "#treat the values in the list as integers(32 bit) and write them into binary format file\n",
    "arr.astype('int32').tofile('graph_data_set')\n",
    "\n",
    "#use the hexdump command to test the binary file data is correct or not\n",
    "#hexdump -e '24/ \"%d,%d\\n\"' graph_data_set"
   ]
  }
 ],
 "metadata": {
  "kernelspec": {
   "display_name": "Python 3",
   "language": "python",
   "name": "python3"
  },
  "language_info": {
   "codemirror_mode": {
    "name": "ipython",
    "version": 3
   },
   "file_extension": ".py",
   "mimetype": "text/x-python",
   "name": "python",
   "nbconvert_exporter": "python",
   "pygments_lexer": "ipython3",
   "version": "3.6.7"
  }
 },
 "nbformat": 4,
 "nbformat_minor": 2
}
